{
 "cells": [
  {
   "cell_type": "code",
   "execution_count": 682,
   "metadata": {
    "collapsed": true
   },
   "outputs": [],
   "source": [
    "import tensorflow as tf\n",
    "import numpy as np\n",
    "import matplotlib.pyplot as plt\n",
    "import scipy.special"
   ]
  },
  {
   "cell_type": "code",
   "execution_count": 683,
   "metadata": {
    "collapsed": true
   },
   "outputs": [],
   "source": [
    "N = 4\n",
    "K = 2"
   ]
  },
  {
   "cell_type": "code",
   "execution_count": 684,
   "metadata": {
    "collapsed": false
   },
   "outputs": [],
   "source": [
    "def full_adder(a,b,c):\n",
    "    s = (a ^ b) ^ c\n",
    "    c = (a & b) | (c & (a ^ b))\n",
    "    return s,c\n",
    "\n",
    "def add_bool(a,b):\n",
    "    k = len(a)\n",
    "    s = np.zeros(k,dtype=bool)\n",
    "    c = False\n",
    "    for i in reversed(range(0,k)):\n",
    "        s[i], c = full_adder(a[i],b[i],c)    \n",
    "    \n",
    "    return s\n",
    "\n",
    "def inc_bin(a):\n",
    "    k = len(a)\n",
    "    increment = np.hstack((np.zeros(k-1,dtype=int), np.ones(1,dtype=int)))\n",
    "    a = add_bool(a,increment)\n",
    "    return a\n",
    "\n",
    "def approx(C):\n",
    "    W = inv_fc(1-(1-pi_fc(C))**2)  \n",
    "    return W\n",
    "\n",
    "def pi_fc(x):\n",
    "    a = -0.4527\n",
    "    b = 0.0218\n",
    "    r = 0.86\n",
    "    \n",
    "    if x < 10:\n",
    "        P = np.exp(a*(x**r)+b)\n",
    "    else:\n",
    "        P = np.sqrt((np.pi)/x)*np.exp(-x/4)*(1-10/(7*x))\n",
    "        \n",
    "    return P\n",
    "\n",
    "def inv_fc(x):\n",
    "    a = -0.4527\n",
    "    b = 0.0218\n",
    "    r = 0.86\n",
    "    \n",
    "    I = ((np.log(x)-b)/a)**(1/r)\n",
    "    \n",
    "    return I\n",
    "    \n",
    "\n",
    "def polarization(N, K, sigma_train):\n",
    "    \n",
    "    W = np.ones(N, dtype=float)\n",
    "    W_temp = np.zeros(N, dtype=float)\n",
    "    \n",
    "    W[0] = (2/(sigma_train**2))\n",
    "    \n",
    "    for i in range(1, int(np.log2(N))+1):\n",
    "        W_temp[:] = W[:]\n",
    "        t = 2**(i-1)\n",
    "        \n",
    "        for j in range(1,(int(t))+1):\n",
    "            C = W_temp[j-1]\n",
    "            W[2*j-1-1] = approx(C)         #polarization by using density evolution\n",
    "            W[2*j-1] = 2*C\n",
    "                  \n",
    "    qfunc = lambda x: 0.5-0.5*scipy.special.erf(x/np.sqrt(2))\n",
    "    W = qfunc(np.sqrt(W/2))\n",
    "    idx = sorted(range(W.size), key=lambda k: -W[k]) # descend order \n",
    "    A = idx[-K:]\n",
    "\n",
    "    \n",
    "    return A\n",
    "    \n",
    "def encoding(u, N):\n",
    "\n",
    "    n = 1\n",
    "    x = np.copy(u)\n",
    "    step = np.log2(N)\n",
    "    for s in range(0,step.astype(int)):\n",
    "        i = 0\n",
    "        while i < N:\n",
    "            for j in range(0,n):\n",
    "                idx = i+j\n",
    "                x[idx] = x[idx] ^ x[idx+n]\n",
    "            i=i+2*n\n",
    "        n=2*n\n",
    "        \n",
    "    for s in range(0,N):\n",
    "        if np.mod(x[s],2) == 0:\n",
    "            x[s] = 0\n",
    "\n",
    "    return x"
   ]
  },
  {
   "cell_type": "code",
   "execution_count": 685,
   "metadata": {
    "collapsed": false
   },
   "outputs": [
    {
     "name": "stdout",
     "output_type": "stream",
     "text": [
      "0.561674881261\n"
     ]
    }
   ],
   "source": [
    "snr_train = 2\n",
    "sigma_train = np.sqrt(1/(2*10**(snr_train/10)))\n",
    "print(sigma_train)"
   ]
  },
  {
   "cell_type": "code",
   "execution_count": 686,
   "metadata": {
    "collapsed": false
   },
   "outputs": [],
   "source": [
    "b = np.zeros((2**K,K),dtype=int)\n",
    "for i in range(1,2**K):\n",
    "    b[i]= inc_bin(b[i-1])"
   ]
  },
  {
   "cell_type": "code",
   "execution_count": 687,
   "metadata": {
    "collapsed": false
   },
   "outputs": [],
   "source": [
    "A = polarization(N, K, sigma_train)\n",
    "u = np.zeros((2**K, N), dtype=int)\n",
    "u[:,A] = b"
   ]
  },
  {
   "cell_type": "code",
   "execution_count": 688,
   "metadata": {
    "collapsed": false
   },
   "outputs": [
    {
     "data": {
      "text/plain": [
       "[2, 3]"
      ]
     },
     "execution_count": 688,
     "metadata": {},
     "output_type": "execute_result"
    }
   ],
   "source": [
    "A"
   ]
  },
  {
   "cell_type": "code",
   "execution_count": 689,
   "metadata": {
    "collapsed": false
   },
   "outputs": [],
   "source": [
    "x = np.zeros((2**K, N), dtype=int)\n",
    "\n",
    "for i in range(0, 2**K):\n",
    "    x[i,:] = encoding(u[i,:], N)\n",
    "    \n",
    "x = (-1)**x # BPSK modulation"
   ]
  },
  {
   "cell_type": "code",
   "execution_count": 690,
   "metadata": {
    "collapsed": false
   },
   "outputs": [
    {
     "data": {
      "text/plain": [
       "array([[0, 0],\n",
       "       [0, 1],\n",
       "       [1, 0],\n",
       "       [1, 1]])"
      ]
     },
     "execution_count": 690,
     "metadata": {},
     "output_type": "execute_result"
    }
   ],
   "source": [
    "b[:,:]"
   ]
  },
  {
   "cell_type": "code",
   "execution_count": 691,
   "metadata": {
    "collapsed": false
   },
   "outputs": [
    {
     "data": {
      "text/plain": [
       "array([[0, 0, 0, 0],\n",
       "       [0, 0, 0, 1],\n",
       "       [0, 0, 1, 0],\n",
       "       [0, 0, 1, 1]])"
      ]
     },
     "execution_count": 691,
     "metadata": {},
     "output_type": "execute_result"
    }
   ],
   "source": [
    "u[:,:]"
   ]
  },
  {
   "cell_type": "code",
   "execution_count": 692,
   "metadata": {
    "collapsed": false
   },
   "outputs": [
    {
     "data": {
      "text/plain": [
       "array([[ 1,  1,  1,  1],\n",
       "       [-1, -1, -1, -1],\n",
       "       [-1,  1, -1,  1],\n",
       "       [ 1, -1,  1, -1]])"
      ]
     },
     "execution_count": 692,
     "metadata": {},
     "output_type": "execute_result"
    }
   ],
   "source": [
    "x[:,:]"
   ]
  },
  {
   "cell_type": "code",
   "execution_count": 693,
   "metadata": {
    "collapsed": false
   },
   "outputs": [],
   "source": [
    "Layer1 = N\n",
    "Layer2 = N\n",
    "Layer3 = N\n",
    "Layer4 = N\n",
    "\n",
    "\n",
    "X = tf.placeholder(tf.float32,[None, N])\n",
    "Y = tf.placeholder(tf.float32,[None, N])\n",
    "\n",
    "\n",
    "#W1 = tf.Variable(tf.zeros([N, Layer1]))\n",
    "#W2 = tf.Variable(tf.zeros([Layer1, Layer2]))\n",
    "#W3 = tf.Variable(tf.zeros([Layer2, Layer3]))\n",
    "#W4 = tf.Variable(tf.zeros([Layer3, N]))\n",
    "\n",
    "W1 = tf.Variable(tf.random_uniform([N, Layer1], -1.0, 1.0))\n",
    "W2 = tf.Variable(tf.random_uniform([Layer1, Layer2], -1.0, 1.0))\n",
    "W3 = tf.Variable(tf.random_uniform([Layer2, Layer3], -1.0, 1.0))\n",
    "W4 = tf.Variable(tf.random_uniform([Layer3, N], -1.0, 1.0))\n",
    "W5 = tf.Variable(tf.random_uniform([Layer3, N], -1.0, 1.0))\n",
    "\n",
    "b1 = tf.Variable(tf.zeros([Layer1]), name = \"Bias1\")\n",
    "b2 = tf.Variable(tf.zeros([Layer2]), name = \"Bias2\")\n",
    "b3 = tf.Variable(tf.zeros([Layer3]), name = \"Bias3\")\n",
    "b4 = tf.Variable(tf.zeros([Layer4]), name = \"Bias4\")\n",
    "b5 = tf.Variable(tf.zeros([Layer4]), name = \"Bias4\")\n",
    "\n",
    "L1 = tf.nn.relu(tf.matmul(X, W1) + b1)\n",
    "L2 = tf.nn.relu(tf.matmul(L1, W2) + b2)\n",
    "L3 = tf.nn.relu(tf.matmul(L2, W3) + b3)\n",
    "L4 = tf.nn.relu(tf.matmul(L3, W4) + b3)\n",
    "hypo = tf.nn.sigmoid(tf.matmul(L4, W5) + b5)\n",
    "\n",
    "#cost = -tf.reduce_mean(tf.maximum(Y,0)*tf.log(hypo)+tf.maximum(-Y,0)*tf.log(-hypo)+((1-tf.abs(Y))*tf.log(1-hypo)))\n",
    "#cost = -tf.reduce_mean(tf.maximum(Y,0)*tf.log(hypo)+tf.maximum(-Y,0)*tf.log(-hypo)+((1-tf.abs(Y))*tf.log(1-hypo)))\n",
    "#cost = -tf.reduce_mean(Y*tf.log(hypo)+(1-Y)*tf.log(1-hypo))\n",
    "cost = tf.reduce_mean(tf.square(Y-hypo))\n",
    "\n",
    "a = 0.01\n",
    "optimizer = tf.train.GradientDescentOptimizer(a)\n",
    "train = optimizer.minimize(cost)\n",
    "\n",
    "init = tf.global_variables_initializer()\n",
    "sess = tf.Session()\n",
    "sess.run(init)"
   ]
  },
  {
   "cell_type": "code",
   "execution_count": 694,
   "metadata": {
    "collapsed": false,
    "scrolled": true
   },
   "outputs": [
    {
     "name": "stdout",
     "output_type": "stream",
     "text": [
      "0\n",
      "0.246094\n",
      "Accuracy: 0.75\n",
      "0 0.25\n",
      "0 0.25\n",
      "0 0.25\n",
      "0 0.25\n",
      "0 0.25\n",
      "1 0.25\n",
      "1 0.25\n",
      "1 0.25\n",
      "1 0.25\n",
      "1 0.25\n",
      "2 0.25\n",
      "2 0.25\n",
      "2 0.25\n",
      "2 0.25\n",
      "2 0.25\n",
      "3 0.25\n",
      "3 0.25\n",
      "3 0.25\n",
      "3 0.25\n",
      "3 0.25\n",
      "4 0.25\n",
      "4 0.25\n",
      "4 0.25\n",
      "4 0.25\n",
      "4 0.25\n",
      "5 0.25\n",
      "5 0.25\n",
      "5 0.25\n",
      "5 0.25\n",
      "5 0.25\n",
      "6 0.25\n",
      "6 0.25\n",
      "6 0.25\n",
      "6 0.25\n",
      "6 0.25\n",
      "7 0.25\n",
      "7 0.25\n",
      "7 0.25\n",
      "7 0.25\n",
      "7 0.25\n",
      "0\n",
      "0.136159\n",
      "Accuracy: 0.875\n",
      "0 0.136363636364\n",
      "0 0.130952380952\n",
      "0 0.129032258065\n",
      "0 0.128048780488\n",
      "0 0.136029411765\n",
      "1 0.125\n",
      "1 0.125\n",
      "1 0.129032258065\n",
      "1 0.129573170732\n",
      "1 0.133578431373\n",
      "2 0.125\n",
      "2 0.130952380952\n",
      "2 0.129032258065\n",
      "2 0.131097560976\n",
      "2 0.129901960784\n",
      "3 0.125\n",
      "3 0.125\n",
      "3 0.125\n",
      "3 0.125\n",
      "3 0.125\n",
      "4 0.125\n",
      "4 0.125\n",
      "4 0.125\n",
      "4 0.125\n",
      "4 0.125\n",
      "5 0.130681818182\n",
      "5 0.127976190476\n",
      "5 0.127016129032\n",
      "5 0.126524390244\n",
      "5 0.126225490196\n",
      "6 0.125\n",
      "6 0.125\n",
      "6 0.125\n",
      "6 0.125\n",
      "6 0.125\n",
      "7 0.125\n",
      "7 0.125\n",
      "7 0.125\n",
      "7 0.125\n",
      "7 0.125\n",
      "0\n",
      "0.0872933\n",
      "10000\n",
      "0.0836655\n",
      "Accuracy: 0.875\n",
      "0 0.147727272727\n",
      "0 0.14880952381\n",
      "0 0.141129032258\n",
      "0 0.143292682927\n",
      "0 0.139705882353\n",
      "1 0.130681818182\n",
      "1 0.133928571429\n",
      "1 0.135080645161\n",
      "1 0.13262195122\n",
      "1 0.13112745098\n",
      "2 0.125\n",
      "2 0.125\n",
      "2 0.125\n",
      "2 0.125\n",
      "2 0.125\n",
      "3 0.125\n",
      "3 0.125\n",
      "3 0.129032258065\n",
      "3 0.128048780488\n",
      "3 0.127450980392\n",
      "4 0.136363636364\n",
      "4 0.130952380952\n",
      "4 0.129032258065\n",
      "4 0.128048780488\n",
      "4 0.128676470588\n",
      "5 0.125\n",
      "5 0.125\n",
      "5 0.125\n",
      "5 0.125\n",
      "5 0.125\n",
      "6 0.125\n",
      "6 0.125\n",
      "6 0.125\n",
      "6 0.125\n",
      "6 0.125\n",
      "7 0.125\n",
      "7 0.125\n",
      "7 0.125\n",
      "7 0.125\n",
      "7 0.125\n",
      "0\n",
      "0.0813759\n",
      "10000\n",
      "0.0502284\n",
      "20000\n",
      "0.042518\n",
      "30000\n",
      "0.0102022\n",
      "40000\n",
      "0.00429247\n",
      "50000\n",
      "0.00536752\n",
      "60000\n",
      "0.000529967\n",
      "Accuracy: 1.0\n",
      "0 0.0227272727273\n",
      "0 0.0178571428571\n",
      "0 0.0161290322581\n",
      "0 0.0167682926829\n",
      "0 0.0171568627451\n",
      "1 0.0284090909091\n",
      "1 0.014880952381\n",
      "1 0.0120967741935\n",
      "1 0.0121951219512\n",
      "1 0.0110294117647\n",
      "2 0.0170454545455\n",
      "2 0.00892857142857\n",
      "2 0.00604838709677\n",
      "2 0.00457317073171\n",
      "2 0.00367647058824\n",
      "3 0.0170454545455\n",
      "3 0.00892857142857\n",
      "3 0.00604838709677\n",
      "3 0.00609756097561\n",
      "3 0.00735294117647\n",
      "4 0.0\n",
      "4 0.0\n",
      "4 0.0\n",
      "4 0.0\n",
      "4 0.0\n",
      "5 0.0\n",
      "5 0.0\n",
      "5 0.0\n",
      "5 0.0\n",
      "5 0.0\n",
      "6 0.0\n",
      "6 0.0\n",
      "6 0.0\n",
      "6 0.0\n",
      "6 0.0\n",
      "7 0.0\n",
      "7 0.0\n",
      "7 0.0\n",
      "7 0.0\n",
      "7 0.0\n",
      "0\n",
      "0.000243163\n",
      "10000\n",
      "0.0378483\n",
      "20000\n",
      "0.000536959\n",
      "30000\n",
      "0.000378575\n",
      "40000\n",
      "7.71386e-05\n",
      "50000\n",
      "0.000311219\n",
      "60000\n",
      "0.0010444\n",
      "70000\n",
      "6.74696e-05\n",
      "80000\n",
      "0.000572692\n",
      "90000\n",
      "4.43425e-05\n",
      "100000\n",
      "7.98085e-05\n",
      "110000\n",
      "4.71534e-05\n",
      "120000\n",
      "4.25995e-05\n",
      "130000\n",
      "0.000200207\n",
      "140000\n",
      "3.5323e-05\n",
      "150000\n",
      "4.51753e-05\n",
      "160000\n",
      "4.495e-05\n",
      "170000\n",
      "4.06205e-05\n",
      "180000\n",
      "4.09583e-05\n",
      "190000\n",
      "3.19404e-05\n",
      "200000\n",
      "0.000375134\n",
      "210000\n",
      "3.02479e-05\n",
      "220000\n",
      "2.85744e-05\n",
      "230000\n",
      "3.66547e-05\n",
      "240000\n",
      "4.60271e-05\n",
      "250000\n",
      "5.9232e-05\n",
      "260000\n",
      "2.72354e-05\n",
      "Accuracy: 1.0\n",
      "0 0.0170454545455\n",
      "0 0.0208333333333\n",
      "0 0.0201612903226\n",
      "0 0.0167682926829\n",
      "0 0.015931372549\n",
      "1 0.0227272727273\n",
      "1 0.014880952381\n",
      "1 0.0120967741935\n",
      "1 0.0121951219512\n",
      "1 0.0110294117647\n",
      "2 0.00568181818182\n",
      "2 0.00297619047619\n"
     ]
    },
    {
     "ename": "KeyboardInterrupt",
     "evalue": "",
     "output_type": "error",
     "traceback": [
      "\u001b[0;31m---------------------------------------------------------------------------\u001b[0m",
      "\u001b[0;31mKeyboardInterrupt\u001b[0m                         Traceback (most recent call last)",
      "\u001b[0;32m<ipython-input-694-5bb7edb11d1a>\u001b[0m in \u001b[0;36m<module>\u001b[0;34m()\u001b[0m\n\u001b[1;32m     32\u001b[0m             \u001b[0mnum_error\u001b[0m \u001b[0;34m=\u001b[0m \u001b[0mtf\u001b[0m\u001b[0;34m.\u001b[0m\u001b[0mreduce_sum\u001b[0m\u001b[0;34m(\u001b[0m\u001b[0mtf\u001b[0m\u001b[0;34m.\u001b[0m\u001b[0mcast\u001b[0m\u001b[0;34m(\u001b[0m\u001b[0mwrong_detection\u001b[0m\u001b[0;34m,\u001b[0m\u001b[0;34m\"float\"\u001b[0m\u001b[0;34m)\u001b[0m\u001b[0;34m)\u001b[0m\u001b[0;34m\u001b[0m\u001b[0m\n\u001b[1;32m     33\u001b[0m \u001b[0;34m\u001b[0m\u001b[0m\n\u001b[0;32m---> 34\u001b[0;31m             \u001b[0me\u001b[0m \u001b[0;34m=\u001b[0m \u001b[0msess\u001b[0m\u001b[0;34m.\u001b[0m\u001b[0mrun\u001b[0m\u001b[0;34m(\u001b[0m\u001b[0mnum_error\u001b[0m\u001b[0;34m,\u001b[0m \u001b[0mfeed_dict\u001b[0m\u001b[0;34m=\u001b[0m\u001b[0;34m{\u001b[0m\u001b[0mX\u001b[0m\u001b[0;34m:\u001b[0m\u001b[0mx\u001b[0m\u001b[0;34m+\u001b[0m\u001b[0mnp\u001b[0m\u001b[0;34m.\u001b[0m\u001b[0mrandom\u001b[0m\u001b[0;34m.\u001b[0m\u001b[0mnormal\u001b[0m\u001b[0;34m(\u001b[0m\u001b[0;36m0\u001b[0m\u001b[0;34m,\u001b[0m\u001b[0msigma\u001b[0m\u001b[0;34m,\u001b[0m\u001b[0;34m(\u001b[0m\u001b[0;36m2\u001b[0m\u001b[0;34m**\u001b[0m\u001b[0mK\u001b[0m\u001b[0;34m,\u001b[0m \u001b[0mN\u001b[0m\u001b[0;34m)\u001b[0m\u001b[0;34m)\u001b[0m\u001b[0;34m,\u001b[0m \u001b[0mY\u001b[0m\u001b[0;34m:\u001b[0m\u001b[0mu\u001b[0m\u001b[0;34m}\u001b[0m\u001b[0;34m)\u001b[0m\u001b[0;34m\u001b[0m\u001b[0m\n\u001b[0m\u001b[1;32m     35\u001b[0m             \u001b[0me\u001b[0m \u001b[0;34m=\u001b[0m \u001b[0me\u001b[0m\u001b[0;31m#*(2**K)*N\u001b[0m\u001b[0;34m\u001b[0m\u001b[0m\n\u001b[1;32m     36\u001b[0m \u001b[0;34m\u001b[0m\u001b[0m\n",
      "\u001b[0;32m/usr/local/lib/python3.6/site-packages/tensorflow/python/client/session.py\u001b[0m in \u001b[0;36mrun\u001b[0;34m(self, fetches, feed_dict, options, run_metadata)\u001b[0m\n\u001b[1;32m    764\u001b[0m     \u001b[0;32mtry\u001b[0m\u001b[0;34m:\u001b[0m\u001b[0;34m\u001b[0m\u001b[0m\n\u001b[1;32m    765\u001b[0m       result = self._run(None, fetches, feed_dict, options_ptr,\n\u001b[0;32m--> 766\u001b[0;31m                          run_metadata_ptr)\n\u001b[0m\u001b[1;32m    767\u001b[0m       \u001b[0;32mif\u001b[0m \u001b[0mrun_metadata\u001b[0m\u001b[0;34m:\u001b[0m\u001b[0;34m\u001b[0m\u001b[0m\n\u001b[1;32m    768\u001b[0m         \u001b[0mproto_data\u001b[0m \u001b[0;34m=\u001b[0m \u001b[0mtf_session\u001b[0m\u001b[0;34m.\u001b[0m\u001b[0mTF_GetBuffer\u001b[0m\u001b[0;34m(\u001b[0m\u001b[0mrun_metadata_ptr\u001b[0m\u001b[0;34m)\u001b[0m\u001b[0;34m\u001b[0m\u001b[0m\n",
      "\u001b[0;32m/usr/local/lib/python3.6/site-packages/tensorflow/python/client/session.py\u001b[0m in \u001b[0;36m_run\u001b[0;34m(self, handle, fetches, feed_dict, options, run_metadata)\u001b[0m\n\u001b[1;32m    962\u001b[0m     \u001b[0;32mif\u001b[0m \u001b[0mfinal_fetches\u001b[0m \u001b[0;32mor\u001b[0m \u001b[0mfinal_targets\u001b[0m\u001b[0;34m:\u001b[0m\u001b[0;34m\u001b[0m\u001b[0m\n\u001b[1;32m    963\u001b[0m       results = self._do_run(handle, final_targets, final_fetches,\n\u001b[0;32m--> 964\u001b[0;31m                              feed_dict_string, options, run_metadata)\n\u001b[0m\u001b[1;32m    965\u001b[0m     \u001b[0;32melse\u001b[0m\u001b[0;34m:\u001b[0m\u001b[0;34m\u001b[0m\u001b[0m\n\u001b[1;32m    966\u001b[0m       \u001b[0mresults\u001b[0m \u001b[0;34m=\u001b[0m \u001b[0;34m[\u001b[0m\u001b[0;34m]\u001b[0m\u001b[0;34m\u001b[0m\u001b[0m\n",
      "\u001b[0;32m/usr/local/lib/python3.6/site-packages/tensorflow/python/client/session.py\u001b[0m in \u001b[0;36m_do_run\u001b[0;34m(self, handle, target_list, fetch_list, feed_dict, options, run_metadata)\u001b[0m\n\u001b[1;32m   1012\u001b[0m     \u001b[0;32mif\u001b[0m \u001b[0mhandle\u001b[0m \u001b[0;32mis\u001b[0m \u001b[0;32mNone\u001b[0m\u001b[0;34m:\u001b[0m\u001b[0;34m\u001b[0m\u001b[0m\n\u001b[1;32m   1013\u001b[0m       return self._do_call(_run_fn, self._session, feed_dict, fetch_list,\n\u001b[0;32m-> 1014\u001b[0;31m                            target_list, options, run_metadata)\n\u001b[0m\u001b[1;32m   1015\u001b[0m     \u001b[0;32melse\u001b[0m\u001b[0;34m:\u001b[0m\u001b[0;34m\u001b[0m\u001b[0m\n\u001b[1;32m   1016\u001b[0m       return self._do_call(_prun_fn, self._session, handle, feed_dict,\n",
      "\u001b[0;32m/usr/local/lib/python3.6/site-packages/tensorflow/python/client/session.py\u001b[0m in \u001b[0;36m_do_call\u001b[0;34m(self, fn, *args)\u001b[0m\n\u001b[1;32m   1019\u001b[0m   \u001b[0;32mdef\u001b[0m \u001b[0m_do_call\u001b[0m\u001b[0;34m(\u001b[0m\u001b[0mself\u001b[0m\u001b[0;34m,\u001b[0m \u001b[0mfn\u001b[0m\u001b[0;34m,\u001b[0m \u001b[0;34m*\u001b[0m\u001b[0margs\u001b[0m\u001b[0;34m)\u001b[0m\u001b[0;34m:\u001b[0m\u001b[0;34m\u001b[0m\u001b[0m\n\u001b[1;32m   1020\u001b[0m     \u001b[0;32mtry\u001b[0m\u001b[0;34m:\u001b[0m\u001b[0;34m\u001b[0m\u001b[0m\n\u001b[0;32m-> 1021\u001b[0;31m       \u001b[0;32mreturn\u001b[0m \u001b[0mfn\u001b[0m\u001b[0;34m(\u001b[0m\u001b[0;34m*\u001b[0m\u001b[0margs\u001b[0m\u001b[0;34m)\u001b[0m\u001b[0;34m\u001b[0m\u001b[0m\n\u001b[0m\u001b[1;32m   1022\u001b[0m     \u001b[0;32mexcept\u001b[0m \u001b[0merrors\u001b[0m\u001b[0;34m.\u001b[0m\u001b[0mOpError\u001b[0m \u001b[0;32mas\u001b[0m \u001b[0me\u001b[0m\u001b[0;34m:\u001b[0m\u001b[0;34m\u001b[0m\u001b[0m\n\u001b[1;32m   1023\u001b[0m       \u001b[0mmessage\u001b[0m \u001b[0;34m=\u001b[0m \u001b[0mcompat\u001b[0m\u001b[0;34m.\u001b[0m\u001b[0mas_text\u001b[0m\u001b[0;34m(\u001b[0m\u001b[0me\u001b[0m\u001b[0;34m.\u001b[0m\u001b[0mmessage\u001b[0m\u001b[0;34m)\u001b[0m\u001b[0;34m\u001b[0m\u001b[0m\n",
      "\u001b[0;32m/usr/local/lib/python3.6/site-packages/tensorflow/python/client/session.py\u001b[0m in \u001b[0;36m_run_fn\u001b[0;34m(session, feed_dict, fetch_list, target_list, options, run_metadata)\u001b[0m\n\u001b[1;32m    997\u001b[0m                 run_metadata):\n\u001b[1;32m    998\u001b[0m       \u001b[0;31m# Ensure any changes to the graph are reflected in the runtime.\u001b[0m\u001b[0;34m\u001b[0m\u001b[0;34m\u001b[0m\u001b[0m\n\u001b[0;32m--> 999\u001b[0;31m       \u001b[0mself\u001b[0m\u001b[0;34m.\u001b[0m\u001b[0m_extend_graph\u001b[0m\u001b[0;34m(\u001b[0m\u001b[0;34m)\u001b[0m\u001b[0;34m\u001b[0m\u001b[0m\n\u001b[0m\u001b[1;32m   1000\u001b[0m       \u001b[0;32mwith\u001b[0m \u001b[0merrors\u001b[0m\u001b[0;34m.\u001b[0m\u001b[0mraise_exception_on_not_ok_status\u001b[0m\u001b[0;34m(\u001b[0m\u001b[0;34m)\u001b[0m \u001b[0;32mas\u001b[0m \u001b[0mstatus\u001b[0m\u001b[0;34m:\u001b[0m\u001b[0;34m\u001b[0m\u001b[0m\n\u001b[1;32m   1001\u001b[0m         return tf_session.TF_Run(session, options,\n",
      "\u001b[0;32m/usr/local/lib/python3.6/site-packages/tensorflow/python/client/session.py\u001b[0m in \u001b[0;36m_extend_graph\u001b[0;34m(self)\u001b[0m\n\u001b[1;32m   1046\u001b[0m         \u001b[0;32mwith\u001b[0m \u001b[0merrors\u001b[0m\u001b[0;34m.\u001b[0m\u001b[0mraise_exception_on_not_ok_status\u001b[0m\u001b[0;34m(\u001b[0m\u001b[0;34m)\u001b[0m \u001b[0;32mas\u001b[0m \u001b[0mstatus\u001b[0m\u001b[0;34m:\u001b[0m\u001b[0;34m\u001b[0m\u001b[0m\n\u001b[1;32m   1047\u001b[0m           tf_session.TF_ExtendGraph(\n\u001b[0;32m-> 1048\u001b[0;31m               self._session, graph_def.SerializeToString(), status)\n\u001b[0m\u001b[1;32m   1049\u001b[0m         \u001b[0mself\u001b[0m\u001b[0;34m.\u001b[0m\u001b[0m_opened\u001b[0m \u001b[0;34m=\u001b[0m \u001b[0;32mTrue\u001b[0m\u001b[0;34m\u001b[0m\u001b[0m\n\u001b[1;32m   1050\u001b[0m \u001b[0;34m\u001b[0m\u001b[0m\n",
      "\u001b[0;31mKeyboardInterrupt\u001b[0m: "
     ]
    }
   ],
   "source": [
    "num_train = 6\n",
    "\n",
    "trial = 51\n",
    "num_snr = 8\n",
    "error = np.zeros([num_train, num_snr], dtype=\"float\")\n",
    "BER = np.zeros([num_train, num_snr], dtype=\"float\")\n",
    "\n",
    "for t in range(num_train):\n",
    "\n",
    "    for step in range(2**(2*t+10)):\n",
    "        sess.run(train, feed_dict={X:x+np.random.normal(0,sigma_train,(2**K, N)), Y:u})\n",
    "\n",
    "        if step % 10000 == 0:\n",
    "            print(step)\n",
    "            print(sess.run(cost, feed_dict={X:x+np.random.normal(0,sigma_train,(2**K, N)), Y:u})) \n",
    "\n",
    "\n",
    "    correct_detection = tf.equal(tf.round(hypo), Y)\n",
    "    accuracy = tf.reduce_mean(tf.cast(correct_detection,\"float\"))        \n",
    "\n",
    "\n",
    "    print(\"Accuracy:\", sess.run(accuracy, feed_dict={X:x+np.random.normal(0,sigma_train,(2**K, N)), Y:u}))\n",
    "\n",
    "    for snr in range(num_snr):\n",
    "\n",
    "        sigma = np.sqrt(1/(2*10**(snr/10)))\n",
    "        to = 0\n",
    "\n",
    "        for i in range(trial):\n",
    "\n",
    "            wrong_detection = tf.not_equal(tf.round(hypo), Y)\n",
    "            num_error = tf.reduce_sum(tf.cast(wrong_detection,\"float\"))     \n",
    "\n",
    "            e = sess.run(num_error, feed_dict={X:x+np.random.normal(0,sigma,(2**K, N)), Y:u})\n",
    "            e = e#*(2**K)*N\n",
    "\n",
    "            to = to + (2**K)*N\n",
    "            error[t, snr] = error[t, snr] + e\n",
    "\n",
    "            if i%10 == 0 and i != 0:\n",
    "                print(snr, error[t, snr]/to)\n",
    "\n",
    "        BER[t, snr] = error[t, snr]/to\n"
   ]
  },
  {
   "cell_type": "code",
   "execution_count": 679,
   "metadata": {
    "collapsed": false
   },
   "outputs": [
    {
     "data": {
      "text/plain": [
       "array([[ 0.03584559,  0.02588848,  0.01639093,  0.00520833,  0.00137868,\n",
       "         0.00122549,  0.00076593,  0.00015319]])"
      ]
     },
     "execution_count": 679,
     "metadata": {},
     "output_type": "execute_result"
    }
   ],
   "source": [
    "BER"
   ]
  },
  {
   "cell_type": "code",
   "execution_count": 680,
   "metadata": {
    "collapsed": false
   },
   "outputs": [
    {
     "data": {
      "image/png": "[encoded data removed]",
      "text/plain": [
       "<matplotlib.figure.Figure at 0x1461d0828>"
      ]
     },
     "metadata": {},
     "output_type": "display_data"
    }
   ],
   "source": [
    "legend = []\n",
    "\n",
    "plt.figure(1)\n",
    "\n",
    "for t in range(num_train):\n",
    "    plt.plot(range(num_snr), BER[t,:])\n",
    "    legend.append('$2^{}$'.format(2*t+10)) \n",
    " \n",
    "plt.legend(legend, loc=3)\n",
    "plt.yscale('log')\n",
    "plt.xlabel('$E_b/N_0$')\n",
    "plt.ylabel('BER')    \n",
    "plt.grid(True)\n",
    "plt.show()"
   ]
  },
  {
   "cell_type": "code",
   "execution_count": 681,
   "metadata": {
    "collapsed": false,
    "scrolled": true
   },
   "outputs": [],
   "source": [
    "# trial = 500\n",
    "# error_sum = 0\n",
    "\n",
    "\n",
    "\n",
    "# for i in range(trial):\n",
    "\n",
    "#     R = np.random.choice(2**K)\n",
    "#     xx = x[R,:]\n",
    "#     uu = u[R,:]\n",
    "\n",
    "#     kr = np.ones((2**K,1),dtype=\"int\")\n",
    "#     x_test = np.kron(xx, kr)\n",
    "#     u_test = np.kron(uu, kr)\n",
    "\n",
    "#     FE = tf.not_equal(tf.round(hypo[R,:]), Y[R,:])\n",
    "#     FER = tf.reduce_mean(tf.cast(FE,\"float\")) \n",
    "\n",
    "#     e = sess.run(FER, feed_dict={X:x_test+np.random.normal(0,sigma,(2**K, N)), Y:u_test})\n",
    "\n",
    "#     if e == 0:\n",
    "#         error = 0\n",
    "#     else:\n",
    "#         error = 1\n",
    "\n",
    "#     error_sum = error_sum + error\n",
    "\n",
    "#     if i%10 == 0 and i != 0:\n",
    "#         print(i, error_sum/i)    "
   ]
  },
  {
   "cell_type": "code",
   "execution_count": null,
   "metadata": {
    "collapsed": true
   },
   "outputs": [],
   "source": []
  }
 ],
 "metadata": {
  "kernelspec": {
   "display_name": "Python 3",
   "language": "python",
   "name": "python3"
  },
  "language_info": {
   "codemirror_mode": {
    "name": "ipython",
    "version": 3
   },
   "file_extension": ".py",
   "mimetype": "text/x-python",
   "name": "python",
   "nbconvert_exporter": "python",
   "pygments_lexer": "ipython3",
   "version": "3.6.0"
  }
 },
 "nbformat": 4,
 "nbformat_minor": 2
}
