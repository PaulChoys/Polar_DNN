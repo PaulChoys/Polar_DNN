{
 "cells": [
  {
   "cell_type": "code",
   "execution_count": 201,
   "metadata": {
    "collapsed": true
   },
   "outputs": [],
   "source": [
    "import tensorflow as tf\n",
    "import numpy as np\n",
    "import scipy.special"
   ]
  },
  {
   "cell_type": "code",
   "execution_count": 202,
   "metadata": {
    "collapsed": true
   },
   "outputs": [],
   "source": [
    "N = 4\n",
    "K = 2"
   ]
  },
  {
   "cell_type": "code",
   "execution_count": 203,
   "metadata": {
    "collapsed": false
   },
   "outputs": [],
   "source": [
    "def full_adder(a,b,c):\n",
    "    s = (a ^ b) ^ c\n",
    "    c = (a & b) | (c & (a ^ b))\n",
    "    return s,c\n",
    "\n",
    "def add_bool(a,b):\n",
    "    k = len(a)\n",
    "    s = np.zeros(k,dtype=bool)\n",
    "    c = False\n",
    "    for i in reversed(range(0,k)):\n",
    "        s[i], c = full_adder(a[i],b[i],c)    \n",
    "    \n",
    "    return s\n",
    "\n",
    "def inc_bin(a):\n",
    "    k = len(a)\n",
    "    increment = np.hstack((np.zeros(k-1,dtype=int), np.ones(1,dtype=int)))\n",
    "    a = add_bool(a,increment)\n",
    "    return a\n",
    "\n",
    "def approx(C):\n",
    "    W = inv_fc(1-(1-pi_fc(C))**2)  \n",
    "    return W\n",
    "\n",
    "def pi_fc(x):\n",
    "    a = -0.4527\n",
    "    b = 0.0218\n",
    "    r = 0.86\n",
    "    \n",
    "    if x < 10:\n",
    "        P = np.exp(a*(x**r)+b)\n",
    "    else:\n",
    "        P = np.sqrt((np.pi)/x)*np.exp(-x/4)*(1-10/(7*x))\n",
    "        \n",
    "    return P\n",
    "\n",
    "def inv_fc(x):\n",
    "    a = -0.4527\n",
    "    b = 0.0218\n",
    "    r = 0.86\n",
    "    \n",
    "    I = ((np.log(x)-b)/a)**(1/r)\n",
    "    \n",
    "    return I\n",
    "    \n",
    "\n",
    "def polarization(N, K, sigma_train):\n",
    "    \n",
    "    W = np.ones(N, dtype=float)\n",
    "    W_temp = np.zeros(N, dtype=float)\n",
    "    \n",
    "    W[0] = (2/(sigma_train**2))\n",
    "    \n",
    "    for i in range(1, int(np.log2(N))+1):\n",
    "        W_temp[:] = W[:]\n",
    "        t = 2**(i-1)\n",
    "        \n",
    "        for j in range(1,(int(t))+1):\n",
    "            C = W_temp[j-1]\n",
    "            W[2*j-1-1] = approx(C)         #polarization by using density evolution\n",
    "            W[2*j-1] = 2*C\n",
    "                  \n",
    "    qfunc = lambda x: 0.5-0.5*scipy.special.erf(x/np.sqrt(2))\n",
    "    W = qfunc(np.sqrt(W/2))\n",
    "    idx = sorted(range(W.size), key=lambda k: -W[k]) # descend order \n",
    "    A = idx[-K:]\n",
    "\n",
    "    \n",
    "    return A\n",
    "    \n",
    "def encoding(u, N):\n",
    "\n",
    "    n = 1\n",
    "    x = np.copy(u)\n",
    "    step = np.log2(N)\n",
    "    for s in range(0,step.astype(int)):\n",
    "        i = 0\n",
    "        while i < N:\n",
    "            for j in range(0,n):\n",
    "                idx = i+j\n",
    "                x[idx] = x[idx] ^ x[idx+n]\n",
    "            i=i+2*n\n",
    "        n=2*n\n",
    "        \n",
    "    for s in range(0,N):\n",
    "        if np.mod(x[s],2) == 0:\n",
    "            x[s] = 0\n",
    "\n",
    "    return x"
   ]
  },
  {
   "cell_type": "code",
   "execution_count": 204,
   "metadata": {
    "collapsed": false
   },
   "outputs": [
    {
     "name": "stdout",
     "output_type": "stream",
     "text": [
      "0.561674881261\n"
     ]
    }
   ],
   "source": [
    "snr_train = 2\n",
    "sigma_train = np.sqrt(1/(2*10**(snr_train/10)))\n",
    "print(sigma_train)"
   ]
  },
  {
   "cell_type": "code",
   "execution_count": 205,
   "metadata": {
    "collapsed": false
   },
   "outputs": [],
   "source": [
    "b = np.zeros((2**K,K),dtype=int)\n",
    "for i in range(1,2**K):\n",
    "    b[i]= inc_bin(b[i-1])"
   ]
  },
  {
   "cell_type": "code",
   "execution_count": 206,
   "metadata": {
    "collapsed": false
   },
   "outputs": [],
   "source": [
    "A = polarization(N, K, sigma_train)\n",
    "u = np.zeros((2**K, N), dtype=int)\n",
    "u[:,A] = b"
   ]
  },
  {
   "cell_type": "code",
   "execution_count": 207,
   "metadata": {
    "collapsed": false
   },
   "outputs": [
    {
     "data": {
      "text/plain": [
       "[2, 3]"
      ]
     },
     "execution_count": 207,
     "metadata": {},
     "output_type": "execute_result"
    }
   ],
   "source": [
    "A"
   ]
  },
  {
   "cell_type": "code",
   "execution_count": 208,
   "metadata": {
    "collapsed": false
   },
   "outputs": [],
   "source": [
    "x = np.zeros((2**K, N), dtype=int)\n",
    "\n",
    "for i in range(0, 2**K):\n",
    "    x[i,:] = encoding(u[i,:], N)\n",
    "    \n",
    "x = (-1)**x # BPSK modulation"
   ]
  },
  {
   "cell_type": "code",
   "execution_count": 209,
   "metadata": {
    "collapsed": false
   },
   "outputs": [
    {
     "data": {
      "text/plain": [
       "array([[0, 0],\n",
       "       [0, 1],\n",
       "       [1, 0],\n",
       "       [1, 1]])"
      ]
     },
     "execution_count": 209,
     "metadata": {},
     "output_type": "execute_result"
    }
   ],
   "source": [
    "b[:,:]"
   ]
  },
  {
   "cell_type": "code",
   "execution_count": 210,
   "metadata": {
    "collapsed": false
   },
   "outputs": [
    {
     "data": {
      "text/plain": [
       "array([[0, 0, 0, 0],\n",
       "       [0, 0, 0, 1],\n",
       "       [0, 0, 1, 0],\n",
       "       [0, 0, 1, 1]])"
      ]
     },
     "execution_count": 210,
     "metadata": {},
     "output_type": "execute_result"
    }
   ],
   "source": [
    "u[:,:]"
   ]
  },
  {
   "cell_type": "code",
   "execution_count": 211,
   "metadata": {
    "collapsed": false
   },
   "outputs": [
    {
     "data": {
      "text/plain": [
       "array([[ 1,  1,  1,  1],\n",
       "       [-1, -1, -1, -1],\n",
       "       [-1,  1, -1,  1],\n",
       "       [ 1, -1,  1, -1]])"
      ]
     },
     "execution_count": 211,
     "metadata": {},
     "output_type": "execute_result"
    }
   ],
   "source": [
    "x[:,:]"
   ]
  },
  {
   "cell_type": "code",
   "execution_count": 212,
   "metadata": {
    "collapsed": false
   },
   "outputs": [],
   "source": [
    "Layer1 = N\n",
    "Layer2 = N\n",
    "Layer3 = N\n",
    "Layer4 = N\n",
    "\n",
    "\n",
    "X = tf.placeholder(tf.float32,[None, N])\n",
    "Y = tf.placeholder(tf.float32,[None, N])\n",
    "\n",
    "W1 = tf.Variable(tf.random_uniform([N, Layer1], -1.0, 1.0))\n",
    "W2 = tf.Variable(tf.random_uniform([Layer1, Layer2], -1.0, 1.0))\n",
    "W3 = tf.Variable(tf.random_uniform([Layer2, Layer3], -1.0, 1.0))\n",
    "W4 = tf.Variable(tf.random_uniform([Layer3, N], -1.0, 1.0))\n",
    "\n",
    "b1 = tf.Variable(tf.zeros([Layer1]), name = \"Bias1\")\n",
    "b2 = tf.Variable(tf.zeros([Layer2]), name = \"Bias2\")\n",
    "b3 = tf.Variable(tf.zeros([Layer3]), name = \"Bias3\")\n",
    "b4 = tf.Variable(tf.zeros([Layer4]), name = \"Bias4\")\n",
    "\n",
    "L1 = tf.nn.relu(tf.matmul(X, W1) + b1)\n",
    "L2 = tf.nn.relu(tf.matmul(L1, W2) + b2)\n",
    "L3 = tf.nn.relu(tf.matmul(L2, W3) + b3)\n",
    "hypo = tf.nn.sigmoid(tf.matmul(L3, W4) + b4)\n",
    "\n",
    "#cost = -tf.reduce_mean(tf.maximum(Y,0)*tf.log(hypo)+tf.maximum(-Y,0)*tf.log(-hypo)+((1-tf.abs(Y))*tf.log(1-hypo)))\n",
    "#cost = -tf.reduce_mean(tf.maximum(Y,0)*tf.log(hypo)+tf.maximum(-Y,0)*tf.log(-hypo)+((1-tf.abs(Y))*tf.log(1-hypo)))\n",
    "#cost = -tf.reduce_mean(Y*tf.log(hypo)+(1-Y)*tf.log(1-hypo))\n",
    "cost = tf.reduce_mean(tf.square(Y-hypo))\n",
    "\n",
    "a = 0.01\n",
    "optimizer = tf.train.GradientDescentOptimizer(a)\n",
    "train = optimizer.minimize(cost)\n",
    "\n",
    "init = tf.global_variables_initializer()"
   ]
  },
  {
   "cell_type": "code",
   "execution_count": 213,
   "metadata": {
    "collapsed": false,
    "scrolled": true
   },
   "outputs": [
    {
     "name": "stdout",
     "output_type": "stream",
     "text": [
      "0\n",
      "0.198553\n",
      "1000\n",
      "0.149134\n",
      "2000\n",
      "0.129354\n",
      "3000\n",
      "0.120017\n",
      "4000\n",
      "0.126486\n",
      "5000\n",
      "0.0872497\n",
      "6000\n",
      "0.084933\n",
      "7000\n",
      "0.0610006\n",
      "8000\n",
      "0.0603338\n",
      "9000\n",
      "0.0523601\n",
      "10000\n",
      "0.0592973\n",
      "11000\n",
      "0.0526446\n",
      "12000\n",
      "0.0478151\n",
      "13000\n",
      "0.0372588\n",
      "14000\n",
      "0.0392708\n",
      "15000\n",
      "0.062213\n",
      "16000\n",
      "0.0389597\n",
      "17000\n",
      "0.0526303\n",
      "18000\n",
      "0.0392722\n",
      "19000\n",
      "0.0342201\n",
      "20000\n",
      "0.0335977\n",
      "21000\n",
      "0.0325852\n",
      "22000\n",
      "0.0323806\n",
      "23000\n",
      "0.0814263\n",
      "24000\n",
      "0.0253377\n",
      "25000\n",
      "0.0312647\n",
      "26000\n",
      "0.0376932\n",
      "27000\n",
      "0.0173976\n",
      "28000\n",
      "0.0312127\n",
      "29000\n",
      "0.0143645\n",
      "30000\n",
      "0.0140978\n",
      "31000\n",
      "0.0141563\n",
      "32000\n",
      "0.0120752\n",
      "33000\n",
      "0.0119091\n",
      "34000\n",
      "0.11043\n",
      "35000\n",
      "0.00984312\n",
      "36000\n",
      "0.0187313\n",
      "37000\n",
      "0.0108363\n",
      "38000\n",
      "0.0517202\n",
      "39000\n",
      "0.117899\n",
      "40000\n",
      "0.00634809\n",
      "41000\n",
      "0.0431389\n",
      "42000\n",
      "0.00886906\n",
      "43000\n",
      "0.0106179\n",
      "44000\n",
      "0.00708729\n",
      "45000\n",
      "0.00573385\n",
      "46000\n",
      "0.0212009\n",
      "47000\n",
      "0.0179291\n",
      "48000\n",
      "0.00449727\n",
      "49000\n",
      "0.00422526\n",
      "50000\n",
      "0.0040425\n",
      "51000\n",
      "0.00397039\n",
      "52000\n",
      "0.00625772\n",
      "53000\n",
      "0.00500973\n",
      "54000\n",
      "0.00367481\n",
      "55000\n",
      "0.0557706\n",
      "56000\n",
      "0.00340157\n",
      "57000\n",
      "0.00656313\n",
      "58000\n",
      "0.0053603\n",
      "59000\n",
      "0.00339337\n",
      "60000\n",
      "0.00319816\n",
      "61000\n",
      "0.00369629\n",
      "62000\n",
      "0.00296626\n",
      "63000\n",
      "0.00396234\n",
      "64000\n",
      "0.0121293\n",
      "65000\n",
      "0.00316288\n",
      "Accuracy:\n",
      "0.9375\n"
     ]
    }
   ],
   "source": [
    "sess = tf.Session()\n",
    "sess.run(init)\n",
    "\n",
    "for step in range(2**16):\n",
    "    sess.run(train, feed_dict={X:x+np.random.normal(0,sigma,(2**K, N)), Y:u})\n",
    "    \n",
    "    if step % 1000 == 0:\n",
    "        print(step)\n",
    "        print(sess.run(cost, feed_dict={X:x+np.random.normal(0,sigma,(2**K, N)), Y:u})) \n",
    "        #print(sess.run(W1, feed_dict={X:x, Y:u}))\n",
    "        \n",
    "#correct_prediction = tf.equal(tf.round(2*hypo-1), Y)\n",
    "correct_prediction = tf.equal(tf.round(hypo), Y)\n",
    "\n",
    "accuracy = tf.reduce_mean(tf.cast(correct_prediction,\"float\"))\n",
    "print(\"Accuracy:\")\n",
    "print(sess.run(accuracy, feed_dict={X:x+np.random.normal(0,sigma,(2**K, N)), Y:u}))\n"
   ]
  },
  {
   "cell_type": "code",
   "execution_count": null,
   "metadata": {
    "collapsed": true
   },
   "outputs": [],
   "source": []
  }
 ],
 "metadata": {
  "kernelspec": {
   "display_name": "Python 3",
   "language": "python",
   "name": "python3"
  },
  "language_info": {
   "codemirror_mode": {
    "name": "ipython",
    "version": 3
   },
   "file_extension": ".py",
   "mimetype": "text/x-python",
   "name": "python",
   "nbconvert_exporter": "python",
   "pygments_lexer": "ipython3",
   "version": "3.6.0"
  }
 },
 "nbformat": 4,
 "nbformat_minor": 2
}
