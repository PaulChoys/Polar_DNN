{
 "cells": [
  {
   "cell_type": "code",
   "execution_count": 29,
   "metadata": {
    "collapsed": true
   },
   "outputs": [],
   "source": [
    "import tensorflow as tf\n",
    "import numpy as np\n",
    "import matplotlib.pyplot as plt\n",
    "import scipy.special"
   ]
  },
  {
   "cell_type": "code",
   "execution_count": 30,
   "metadata": {
    "collapsed": true
   },
   "outputs": [],
   "source": [
    "N = 16\n",
    "K = 8"
   ]
  },
  {
   "cell_type": "code",
   "execution_count": 31,
   "metadata": {
    "collapsed": false
   },
   "outputs": [],
   "source": [
    "def full_adder(a,b,c):\n",
    "    s = (a ^ b) ^ c\n",
    "    c = (a & b) | (c & (a ^ b))\n",
    "    return s,c\n",
    "\n",
    "def add_bool(a,b):\n",
    "    k = len(a)\n",
    "    s = np.zeros(k,dtype=bool)\n",
    "    c = False\n",
    "    for i in reversed(range(0,k)):\n",
    "        s[i], c = full_adder(a[i],b[i],c)    \n",
    "    \n",
    "    return s\n",
    "\n",
    "def inc_bin(a):\n",
    "    k = len(a)\n",
    "    increment = np.hstack((np.zeros(k-1,dtype=int), np.ones(1,dtype=int)))\n",
    "    a = add_bool(a,increment)\n",
    "    return a\n",
    "\n",
    "def approx(C):\n",
    "    W = inv_fc(1-(1-pi_fc(C))**2)  \n",
    "    return W\n",
    "\n",
    "def pi_fc(x):\n",
    "    a = -0.4527\n",
    "    b = 0.0218\n",
    "    r = 0.86\n",
    "    \n",
    "    if x < 10:\n",
    "        P = np.exp(a*(x**r)+b)\n",
    "    else:\n",
    "        P = np.sqrt((np.pi)/x)*np.exp(-x/4)*(1-10/(7*x))\n",
    "        \n",
    "    return P\n",
    "\n",
    "def inv_fc(x):\n",
    "    a = -0.4527\n",
    "    b = 0.0218\n",
    "    r = 0.86\n",
    "    \n",
    "    I = ((np.log(x)-b)/a)**(1/r)\n",
    "    \n",
    "    return I\n",
    "    \n",
    "\n",
    "def polarization(N, K, sigma_train):\n",
    "    \n",
    "    W = np.ones(N, dtype=float)\n",
    "    W_temp = np.zeros(N, dtype=float)\n",
    "    \n",
    "    W[0] = (2/(sigma_train**2))\n",
    "    \n",
    "    for i in range(1, int(np.log2(N))+1):\n",
    "        W_temp[:] = W[:]\n",
    "        t = 2**(i-1)\n",
    "        \n",
    "        for j in range(1,(int(t))+1):\n",
    "            C = W_temp[j-1]\n",
    "            W[2*j-1-1] = approx(C)         #polarization by using density evolution\n",
    "            W[2*j-1] = 2*C\n",
    "                  \n",
    "    qfunc = lambda x: 0.5-0.5*scipy.special.erf(x/np.sqrt(2))\n",
    "    W = qfunc(np.sqrt(W/2))\n",
    "    idx = sorted(range(W.size), key=lambda k: -W[k]) # descend order \n",
    "    A = idx[-K:]\n",
    "\n",
    "    \n",
    "    return A\n",
    "    \n",
    "def encoding(u, N):\n",
    "\n",
    "    n = 1\n",
    "    x = np.copy(u)\n",
    "    step = np.log2(N)\n",
    "    for s in range(0,step.astype(int)):\n",
    "        i = 0\n",
    "        while i < N:\n",
    "            for j in range(0,n):\n",
    "                idx = i+j\n",
    "                x[idx] = x[idx] ^ x[idx+n]\n",
    "            i=i+2*n\n",
    "        n=2*n\n",
    "        \n",
    "    for s in range(0,N):\n",
    "        if np.mod(x[s],2) == 0:\n",
    "            x[s] = 0\n",
    "\n",
    "    return x"
   ]
  },
  {
   "cell_type": "code",
   "execution_count": 32,
   "metadata": {
    "collapsed": false
   },
   "outputs": [
    {
     "name": "stdout",
     "output_type": "stream",
     "text": [
      "0.561674881261\n"
     ]
    }
   ],
   "source": [
    "snr_train = 2\n",
    "sigma_train = np.sqrt(1/(2*10**(snr_train/10)))\n",
    "print(sigma_train)"
   ]
  },
  {
   "cell_type": "code",
   "execution_count": 33,
   "metadata": {
    "collapsed": false
   },
   "outputs": [],
   "source": [
    "b = np.zeros((2**K,K),dtype=int)\n",
    "for i in range(1,2**K):\n",
    "    b[i]= inc_bin(b[i-1])"
   ]
  },
  {
   "cell_type": "code",
   "execution_count": 34,
   "metadata": {
    "collapsed": false
   },
   "outputs": [],
   "source": [
    "A = polarization(N, K, sigma_train)\n",
    "u = np.zeros((2**K, N), dtype=int)\n",
    "u[:,A] = b"
   ]
  },
  {
   "cell_type": "code",
   "execution_count": 35,
   "metadata": {
    "collapsed": false
   },
   "outputs": [
    {
     "data": {
      "text/plain": [
       "[9, 10, 12, 7, 11, 13, 14, 15]"
      ]
     },
     "execution_count": 35,
     "metadata": {},
     "output_type": "execute_result"
    }
   ],
   "source": [
    "A"
   ]
  },
  {
   "cell_type": "code",
   "execution_count": 36,
   "metadata": {
    "collapsed": false
   },
   "outputs": [],
   "source": [
    "x = np.zeros((2**K, N), dtype=int)\n",
    "\n",
    "for i in range(0, 2**K):\n",
    "    x[i,:] = encoding(u[i,:], N)\n",
    "    \n",
    "x = (-1)**x # BPSK modulation"
   ]
  },
  {
   "cell_type": "code",
   "execution_count": 37,
   "metadata": {
    "collapsed": false
   },
   "outputs": [
    {
     "data": {
      "text/plain": [
       "array([[0, 0, 0, ..., 0, 0, 0],\n",
       "       [0, 0, 0, ..., 0, 0, 1],\n",
       "       [0, 0, 0, ..., 0, 1, 0],\n",
       "       ..., \n",
       "       [1, 1, 1, ..., 1, 0, 1],\n",
       "       [1, 1, 1, ..., 1, 1, 0],\n",
       "       [1, 1, 1, ..., 1, 1, 1]])"
      ]
     },
     "execution_count": 37,
     "metadata": {},
     "output_type": "execute_result"
    }
   ],
   "source": [
    "b[:,:]"
   ]
  },
  {
   "cell_type": "code",
   "execution_count": 38,
   "metadata": {
    "collapsed": false
   },
   "outputs": [
    {
     "data": {
      "text/plain": [
       "array([[0, 0, 0, ..., 0, 0, 0],\n",
       "       [0, 0, 0, ..., 0, 0, 1],\n",
       "       [0, 0, 0, ..., 0, 1, 0],\n",
       "       ..., \n",
       "       [0, 0, 0, ..., 1, 0, 1],\n",
       "       [0, 0, 0, ..., 1, 1, 0],\n",
       "       [0, 0, 0, ..., 1, 1, 1]])"
      ]
     },
     "execution_count": 38,
     "metadata": {},
     "output_type": "execute_result"
    }
   ],
   "source": [
    "u[:,:]"
   ]
  },
  {
   "cell_type": "code",
   "execution_count": 39,
   "metadata": {
    "collapsed": false
   },
   "outputs": [
    {
     "data": {
      "text/plain": [
       "array([[ 1,  1,  1, ...,  1,  1,  1],\n",
       "       [-1, -1, -1, ..., -1, -1, -1],\n",
       "       [-1,  1, -1, ...,  1, -1,  1],\n",
       "       ..., \n",
       "       [-1, -1,  1, ...,  1, -1, -1],\n",
       "       [-1,  1,  1, ..., -1, -1,  1],\n",
       "       [ 1, -1, -1, ...,  1,  1, -1]])"
      ]
     },
     "execution_count": 39,
     "metadata": {},
     "output_type": "execute_result"
    }
   ],
   "source": [
    "x[:,:]"
   ]
  },
  {
   "cell_type": "code",
   "execution_count": 44,
   "metadata": {
    "collapsed": false
   },
   "outputs": [],
   "source": [
    "Layer1 = N\n",
    "Layer2 = N\n",
    "Layer3 = N\n",
    "Layer4 = N\n",
    "\n",
    "\n",
    "X = tf.placeholder(tf.float32,[None, N])\n",
    "Y = tf.placeholder(tf.float32,[None, N])\n",
    "\n",
    "#W1 = tf.Variable(tf.zeros([N, Layer1]))\n",
    "#W2 = tf.Variable(tf.zeros([Layer1, Layer2]))\n",
    "#W3 = tf.Variable(tf.zeros([Layer2, Layer3]))\n",
    "#W4 = tf.Variable(tf.zeros([Layer3, N]))\n",
    "\n",
    "W1 = tf.Variable(tf.random_uniform([N, Layer1], -1.0, 1.0))\n",
    "W2 = tf.Variable(tf.random_uniform([Layer1, Layer2], -1.0, 1.0))\n",
    "W3 = tf.Variable(tf.random_uniform([Layer2, Layer3], -1.0, 1.0))\n",
    "W4 = tf.Variable(tf.random_uniform([Layer3, Layer4], -1.0, 1.0))\n",
    "W5 = tf.Variable(tf.random_uniform([Layer4, N], -1.0, 1.0))\n",
    "\n",
    "b1 = tf.Variable(tf.zeros([Layer1]), name = \"Bias1\")\n",
    "b2 = tf.Variable(tf.zeros([Layer2]), name = \"Bias2\")\n",
    "b3 = tf.Variable(tf.zeros([Layer3]), name = \"Bias3\")\n",
    "b4 = tf.Variable(tf.zeros([Layer4]), name = \"Bias4\")\n",
    "b5 = tf.Variable(tf.zeros([N]), name = \"Bias4\")\n",
    "\n",
    "L1 = tf.nn.relu(tf.matmul(X, W1) + b1)\n",
    "L2 = tf.nn.relu(tf.matmul(L1, W2) + b2)\n",
    "L3 = tf.nn.relu(tf.matmul(L2, W3) + b3)\n",
    "L4 = tf.nn.relu(tf.matmul(L3, W4) + b4)\n",
    "hypo = tf.nn.sigmoid(tf.matmul(L4, W5) + b5)\n",
    "\n",
    "#cost = -tf.reduce_mean(tf.maximum(Y,0)*tf.log(hypo)+tf.maximum(-Y,0)*tf.log(-hypo)+((1-tf.abs(Y))*tf.log(1-hypo)))\n",
    "#cost = -tf.reduce_mean(tf.maximum(Y,0)*tf.log(hypo)+tf.maximum(-Y,0)*tf.log(-hypo)+((1-tf.abs(Y))*tf.log(1-hypo)))\n",
    "#cost = -tf.reduce_mean(Y*tf.log(hypo)+(1-Y)*tf.log(1-hypo))\n",
    "cost = tf.reduce_mean(tf.square(Y-hypo))\n",
    "\n",
    "a = 0.05\n",
    "optimizer = tf.train.GradientDescentOptimizer(a)\n",
    "train = optimizer.minimize(cost)\n",
    "\n",
    "init = tf.global_variables_initializer()\n",
    "sess = tf.Session()\n",
    "sess.run(init)"
   ]
  },
  {
   "cell_type": "code",
   "execution_count": 46,
   "metadata": {
    "collapsed": false,
    "scrolled": true
   },
   "outputs": [
    {
     "name": "stdout",
     "output_type": "stream",
     "text": [
      "0\n",
      "0.311009\n",
      "10000\n",
      "0.273877\n",
      "20000\n",
      "0.25804\n",
      "30000\n",
      "0.251173\n",
      "40000\n",
      "0.221021\n",
      "50000\n",
      "0.202556\n",
      "60000\n",
      "0.185261\n",
      "70000\n",
      "0.1785\n",
      "80000\n",
      "0.175478\n",
      "90000\n",
      "0.17435\n",
      "100000\n",
      "0.171814\n",
      "110000\n",
      "0.171595\n",
      "120000\n",
      "0.168413\n",
      "130000\n",
      "0.170959\n",
      "140000\n",
      "0.170644\n",
      "150000\n",
      "0.167613\n",
      "160000\n",
      "0.16571\n",
      "170000\n",
      "0.166398\n",
      "180000\n",
      "0.16477\n",
      "190000\n",
      "0.165156\n",
      "200000\n",
      "0.163546\n"
     ]
    },
    {
     "ename": "KeyboardInterrupt",
     "evalue": "",
     "output_type": "error",
     "traceback": [
      "\u001b[0;31m---------------------------------------------------------------------------\u001b[0m",
      "\u001b[0;31mKeyboardInterrupt\u001b[0m                         Traceback (most recent call last)",
      "\u001b[0;32m<ipython-input-46-850e1b22fcf1>\u001b[0m in \u001b[0;36m<module>\u001b[0;34m()\u001b[0m\n\u001b[1;32m      9\u001b[0m \u001b[0;34m\u001b[0m\u001b[0m\n\u001b[1;32m     10\u001b[0m     \u001b[0;32mfor\u001b[0m \u001b[0mstep\u001b[0m \u001b[0;32min\u001b[0m \u001b[0mrange\u001b[0m\u001b[0;34m(\u001b[0m\u001b[0;36m2\u001b[0m\u001b[0;34m**\u001b[0m\u001b[0;34m(\u001b[0m\u001b[0;36m2\u001b[0m\u001b[0;34m*\u001b[0m\u001b[0mt\u001b[0m\u001b[0;34m+\u001b[0m\u001b[0;36m20\u001b[0m\u001b[0;34m)\u001b[0m\u001b[0;34m)\u001b[0m\u001b[0;34m:\u001b[0m\u001b[0;34m\u001b[0m\u001b[0m\n\u001b[0;32m---> 11\u001b[0;31m         \u001b[0msess\u001b[0m\u001b[0;34m.\u001b[0m\u001b[0mrun\u001b[0m\u001b[0;34m(\u001b[0m\u001b[0mtrain\u001b[0m\u001b[0;34m,\u001b[0m \u001b[0mfeed_dict\u001b[0m\u001b[0;34m=\u001b[0m\u001b[0;34m{\u001b[0m\u001b[0mX\u001b[0m\u001b[0;34m:\u001b[0m\u001b[0mx\u001b[0m\u001b[0;34m+\u001b[0m\u001b[0mnp\u001b[0m\u001b[0;34m.\u001b[0m\u001b[0mrandom\u001b[0m\u001b[0;34m.\u001b[0m\u001b[0mnormal\u001b[0m\u001b[0;34m(\u001b[0m\u001b[0;36m0\u001b[0m\u001b[0;34m,\u001b[0m\u001b[0msigma_train\u001b[0m\u001b[0;34m,\u001b[0m\u001b[0;34m(\u001b[0m\u001b[0;36m2\u001b[0m\u001b[0;34m**\u001b[0m\u001b[0mK\u001b[0m\u001b[0;34m,\u001b[0m \u001b[0mN\u001b[0m\u001b[0;34m)\u001b[0m\u001b[0;34m)\u001b[0m\u001b[0;34m,\u001b[0m \u001b[0mY\u001b[0m\u001b[0;34m:\u001b[0m\u001b[0mu\u001b[0m\u001b[0;34m}\u001b[0m\u001b[0;34m)\u001b[0m\u001b[0;34m\u001b[0m\u001b[0m\n\u001b[0m\u001b[1;32m     12\u001b[0m \u001b[0;34m\u001b[0m\u001b[0m\n\u001b[1;32m     13\u001b[0m         \u001b[0;32mif\u001b[0m \u001b[0mstep\u001b[0m \u001b[0;34m%\u001b[0m \u001b[0;36m10000\u001b[0m \u001b[0;34m==\u001b[0m \u001b[0;36m0\u001b[0m\u001b[0;34m:\u001b[0m\u001b[0;34m\u001b[0m\u001b[0m\n",
      "\u001b[0;32m/usr/local/lib/python3.6/site-packages/tensorflow/python/client/session.py\u001b[0m in \u001b[0;36mrun\u001b[0;34m(self, fetches, feed_dict, options, run_metadata)\u001b[0m\n\u001b[1;32m    764\u001b[0m     \u001b[0;32mtry\u001b[0m\u001b[0;34m:\u001b[0m\u001b[0;34m\u001b[0m\u001b[0m\n\u001b[1;32m    765\u001b[0m       result = self._run(None, fetches, feed_dict, options_ptr,\n\u001b[0;32m--> 766\u001b[0;31m                          run_metadata_ptr)\n\u001b[0m\u001b[1;32m    767\u001b[0m       \u001b[0;32mif\u001b[0m \u001b[0mrun_metadata\u001b[0m\u001b[0;34m:\u001b[0m\u001b[0;34m\u001b[0m\u001b[0m\n\u001b[1;32m    768\u001b[0m         \u001b[0mproto_data\u001b[0m \u001b[0;34m=\u001b[0m \u001b[0mtf_session\u001b[0m\u001b[0;34m.\u001b[0m\u001b[0mTF_GetBuffer\u001b[0m\u001b[0;34m(\u001b[0m\u001b[0mrun_metadata_ptr\u001b[0m\u001b[0;34m)\u001b[0m\u001b[0;34m\u001b[0m\u001b[0m\n",
      "\u001b[0;32m/usr/local/lib/python3.6/site-packages/tensorflow/python/client/session.py\u001b[0m in \u001b[0;36m_run\u001b[0;34m(self, handle, fetches, feed_dict, options, run_metadata)\u001b[0m\n\u001b[1;32m    962\u001b[0m     \u001b[0;32mif\u001b[0m \u001b[0mfinal_fetches\u001b[0m \u001b[0;32mor\u001b[0m \u001b[0mfinal_targets\u001b[0m\u001b[0;34m:\u001b[0m\u001b[0;34m\u001b[0m\u001b[0m\n\u001b[1;32m    963\u001b[0m       results = self._do_run(handle, final_targets, final_fetches,\n\u001b[0;32m--> 964\u001b[0;31m                              feed_dict_string, options, run_metadata)\n\u001b[0m\u001b[1;32m    965\u001b[0m     \u001b[0;32melse\u001b[0m\u001b[0;34m:\u001b[0m\u001b[0;34m\u001b[0m\u001b[0m\n\u001b[1;32m    966\u001b[0m       \u001b[0mresults\u001b[0m \u001b[0;34m=\u001b[0m \u001b[0;34m[\u001b[0m\u001b[0;34m]\u001b[0m\u001b[0;34m\u001b[0m\u001b[0m\n",
      "\u001b[0;32m/usr/local/lib/python3.6/site-packages/tensorflow/python/client/session.py\u001b[0m in \u001b[0;36m_do_run\u001b[0;34m(self, handle, target_list, fetch_list, feed_dict, options, run_metadata)\u001b[0m\n\u001b[1;32m   1012\u001b[0m     \u001b[0;32mif\u001b[0m \u001b[0mhandle\u001b[0m \u001b[0;32mis\u001b[0m \u001b[0;32mNone\u001b[0m\u001b[0;34m:\u001b[0m\u001b[0;34m\u001b[0m\u001b[0m\n\u001b[1;32m   1013\u001b[0m       return self._do_call(_run_fn, self._session, feed_dict, fetch_list,\n\u001b[0;32m-> 1014\u001b[0;31m                            target_list, options, run_metadata)\n\u001b[0m\u001b[1;32m   1015\u001b[0m     \u001b[0;32melse\u001b[0m\u001b[0;34m:\u001b[0m\u001b[0;34m\u001b[0m\u001b[0m\n\u001b[1;32m   1016\u001b[0m       return self._do_call(_prun_fn, self._session, handle, feed_dict,\n",
      "\u001b[0;32m/usr/local/lib/python3.6/site-packages/tensorflow/python/client/session.py\u001b[0m in \u001b[0;36m_do_call\u001b[0;34m(self, fn, *args)\u001b[0m\n\u001b[1;32m   1019\u001b[0m   \u001b[0;32mdef\u001b[0m \u001b[0m_do_call\u001b[0m\u001b[0;34m(\u001b[0m\u001b[0mself\u001b[0m\u001b[0;34m,\u001b[0m \u001b[0mfn\u001b[0m\u001b[0;34m,\u001b[0m \u001b[0;34m*\u001b[0m\u001b[0margs\u001b[0m\u001b[0;34m)\u001b[0m\u001b[0;34m:\u001b[0m\u001b[0;34m\u001b[0m\u001b[0m\n\u001b[1;32m   1020\u001b[0m     \u001b[0;32mtry\u001b[0m\u001b[0;34m:\u001b[0m\u001b[0;34m\u001b[0m\u001b[0m\n\u001b[0;32m-> 1021\u001b[0;31m       \u001b[0;32mreturn\u001b[0m \u001b[0mfn\u001b[0m\u001b[0;34m(\u001b[0m\u001b[0;34m*\u001b[0m\u001b[0margs\u001b[0m\u001b[0;34m)\u001b[0m\u001b[0;34m\u001b[0m\u001b[0m\n\u001b[0m\u001b[1;32m   1022\u001b[0m     \u001b[0;32mexcept\u001b[0m \u001b[0merrors\u001b[0m\u001b[0;34m.\u001b[0m\u001b[0mOpError\u001b[0m \u001b[0;32mas\u001b[0m \u001b[0me\u001b[0m\u001b[0;34m:\u001b[0m\u001b[0;34m\u001b[0m\u001b[0m\n\u001b[1;32m   1023\u001b[0m       \u001b[0mmessage\u001b[0m \u001b[0;34m=\u001b[0m \u001b[0mcompat\u001b[0m\u001b[0;34m.\u001b[0m\u001b[0mas_text\u001b[0m\u001b[0;34m(\u001b[0m\u001b[0me\u001b[0m\u001b[0;34m.\u001b[0m\u001b[0mmessage\u001b[0m\u001b[0;34m)\u001b[0m\u001b[0;34m\u001b[0m\u001b[0m\n",
      "\u001b[0;32m/usr/local/lib/python3.6/site-packages/tensorflow/python/client/session.py\u001b[0m in \u001b[0;36m_run_fn\u001b[0;34m(session, feed_dict, fetch_list, target_list, options, run_metadata)\u001b[0m\n\u001b[1;32m   1001\u001b[0m         return tf_session.TF_Run(session, options,\n\u001b[1;32m   1002\u001b[0m                                  \u001b[0mfeed_dict\u001b[0m\u001b[0;34m,\u001b[0m \u001b[0mfetch_list\u001b[0m\u001b[0;34m,\u001b[0m \u001b[0mtarget_list\u001b[0m\u001b[0;34m,\u001b[0m\u001b[0;34m\u001b[0m\u001b[0m\n\u001b[0;32m-> 1003\u001b[0;31m                                  status, run_metadata)\n\u001b[0m\u001b[1;32m   1004\u001b[0m \u001b[0;34m\u001b[0m\u001b[0m\n\u001b[1;32m   1005\u001b[0m     \u001b[0;32mdef\u001b[0m \u001b[0m_prun_fn\u001b[0m\u001b[0;34m(\u001b[0m\u001b[0msession\u001b[0m\u001b[0;34m,\u001b[0m \u001b[0mhandle\u001b[0m\u001b[0;34m,\u001b[0m \u001b[0mfeed_dict\u001b[0m\u001b[0;34m,\u001b[0m \u001b[0mfetch_list\u001b[0m\u001b[0;34m)\u001b[0m\u001b[0;34m:\u001b[0m\u001b[0;34m\u001b[0m\u001b[0m\n",
      "\u001b[0;31mKeyboardInterrupt\u001b[0m: "
     ]
    }
   ],
   "source": [
    "num_train = 6\n",
    "\n",
    "trial = 51\n",
    "num_snr = 8\n",
    "error = np.zeros([num_train, num_snr], dtype=\"float\")\n",
    "BER = np.zeros([num_train, num_snr], dtype=\"float\")\n",
    "\n",
    "for t in range(num_train):\n",
    "\n",
    "    for step in range(2**(2*t+20)):\n",
    "        sess.run(train, feed_dict={X:x+np.random.normal(0,sigma_train,(2**K, N)), Y:u})\n",
    "\n",
    "        if step % 10000 == 0:\n",
    "            print(step)\n",
    "            print(sess.run(cost, feed_dict={X:x+np.random.normal(0,sigma_train,(2**K, N)), Y:u})) \n",
    "\n",
    "\n",
    "    correct_detection = tf.equal(tf.round(hypo), Y)\n",
    "    accuracy = tf.reduce_mean(tf.cast(correct_detection,\"float\"))        \n",
    "\n",
    "\n",
    "    print(\"Accuracy:\", sess.run(accuracy, feed_dict={X:x+np.random.normal(0,sigma_train,(2**K, N)), Y:u}))\n",
    "\n",
    "    for snr in range(num_snr):\n",
    "\n",
    "        sigma = np.sqrt(1/(2*10**(snr/10)))\n",
    "        to = 0\n",
    "\n",
    "        for i in range(trial):\n",
    "\n",
    "            wrong_detection = tf.not_equal(tf.round(hypo), Y)\n",
    "            num_error = tf.reduce_sum(tf.cast(wrong_detection,\"float\"))     \n",
    "\n",
    "            e = sess.run(num_error, feed_dict={X:x+np.random.normal(0,sigma,(2**K, N)), Y:u})\n",
    "            e = e#*(2**K)*N\n",
    "\n",
    "            to = to + (2**K)*N\n",
    "            error[t, snr] = error[t, snr] + e\n",
    "\n",
    "            if i%10 == 0 and i != 0:\n",
    "                print(snr, error[t, snr]/to)\n",
    "\n",
    "        BER[t, snr] = error[t, snr]/to\n"
   ]
  },
  {
   "cell_type": "code",
   "execution_count": 27,
   "metadata": {
    "collapsed": false
   },
   "outputs": [
    {
     "data": {
      "text/plain": [
       "array([[ 0.24130668,  0.23934398,  0.23934398,  0.23808498,  0.23787914,\n",
       "         0.2371515 ,  0.23652439,  0.23679247],\n",
       "       [ 0.22054994,  0.21890319,  0.21730909,  0.21524108,  0.21339327,\n",
       "         0.21350337,  0.2118997 ,  0.21055932],\n",
       "       [ 0.19358437,  0.18911803,  0.18477137,  0.18115713,  0.17743279,\n",
       "         0.17412971,  0.17192287,  0.17059685],\n",
       "       [ 0.16784429,  0.16231522,  0.15743719,  0.1522145 ,  0.14918428,\n",
       "         0.14725031,  0.14367436,  0.14309992],\n",
       "       [ 0.12260168,  0.11194087,  0.10554056,  0.10004021,  0.09738339,\n",
       "         0.0946021 ,  0.09333352,  0.09221814],\n",
       "       [ 0.10925532,  0.10170133,  0.0966749 ,  0.09431009,  0.09216069,\n",
       "         0.0906384 ,  0.09076287,  0.09051873]])"
      ]
     },
     "execution_count": 27,
     "metadata": {},
     "output_type": "execute_result"
    }
   ],
   "source": [
    "BER"
   ]
  },
  {
   "cell_type": "code",
   "execution_count": 28,
   "metadata": {
    "collapsed": false
   },
   "outputs": [
    {
     "data": {
      "image/png": "[encoded data removed]",
      "text/plain": [
       "<matplotlib.figure.Figure at 0x1166d3fd0>"
      ]
     },
     "metadata": {},
     "output_type": "display_data"
    }
   ],
   "source": [
    "legend = []\n",
    "\n",
    "plt.figure(1)\n",
    "\n",
    "for t in range(num_train):\n",
    "    plt.plot(range(num_snr), BER[t,:])\n",
    "    legend.append('$2^{}$'.format(2*t+10)) \n",
    " \n",
    "plt.legend(legend, loc=3)\n",
    "plt.yscale('log')\n",
    "plt.xlabel('$E_b/N_0$')\n",
    "plt.ylabel('BER')    \n",
    "plt.grid(True)\n",
    "plt.show()"
   ]
  },
  {
   "cell_type": "code",
   "execution_count": 681,
   "metadata": {
    "collapsed": false,
    "scrolled": true
   },
   "outputs": [],
   "source": [
    "# trial = 500\n",
    "# error_sum = 0\n",
    "\n",
    "\n",
    "\n",
    "# for i in range(trial):\n",
    "\n",
    "#     R = np.random.choice(2**K)\n",
    "#     xx = x[R,:]\n",
    "#     uu = u[R,:]\n",
    "\n",
    "#     kr = np.ones((2**K,1),dtype=\"int\")\n",
    "#     x_test = np.kron(xx, kr)\n",
    "#     u_test = np.kron(uu, kr)\n",
    "\n",
    "#     FE = tf.not_equal(tf.round(hypo[R,:]), Y[R,:])\n",
    "#     FER = tf.reduce_mean(tf.cast(FE,\"float\")) \n",
    "\n",
    "#     e = sess.run(FER, feed_dict={X:x_test+np.random.normal(0,sigma,(2**K, N)), Y:u_test})\n",
    "\n",
    "#     if e == 0:\n",
    "#         error = 0\n",
    "#     else:\n",
    "#         error = 1\n",
    "\n",
    "#     error_sum = error_sum + error\n",
    "\n",
    "#     if i%10 == 0 and i != 0:\n",
    "#         print(i, error_sum/i)    "
   ]
  },
  {
   "cell_type": "code",
   "execution_count": null,
   "metadata": {
    "collapsed": true
   },
   "outputs": [],
   "source": []
  }
 ],
 "metadata": {
  "kernelspec": {
   "display_name": "Python 3",
   "language": "python",
   "name": "python3"
  },
  "language_info": {
   "codemirror_mode": {
    "name": "ipython",
    "version": 3
   },
   "file_extension": ".py",
   "mimetype": "text/x-python",
   "name": "python",
   "nbconvert_exporter": "python",
   "pygments_lexer": "ipython3",
   "version": "3.6.0"
  }
 },
 "nbformat": 4,
 "nbformat_minor": 2
}
